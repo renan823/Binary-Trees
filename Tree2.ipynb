{
  "nbformat": 4,
  "nbformat_minor": 0,
  "metadata": {
    "colab": {
      "provenance": []
    },
    "kernelspec": {
      "name": "python3",
      "display_name": "Python 3"
    },
    "language_info": {
      "name": "python"
    }
  },
  "cells": [
    {
      "cell_type": "code",
      "execution_count": null,
      "metadata": {
        "id": "cuSWocU8hyvp"
      },
      "outputs": [],
      "source": [
        "class Node:\n",
        "  def __init__(self, data):\n",
        "    self.data = data\n",
        "    self.left = None\n",
        "    self.right = None\n",
        "\n",
        "  def __str__(self):\n",
        "    return str(self.data)"
      ]
    },
    {
      "cell_type": "code",
      "source": [
        "class Tree:\n",
        "  def __init__(self, data=None):\n",
        "    if data:\n",
        "      node = Node(data)\n",
        "      self.root = node\n",
        "    else:\n",
        "      self.root = None\n",
        "\n",
        "  def simetric_traversal(self, node=None):\n",
        "    if node is None:\n",
        "      node = self.root\n",
        "    if node.left:\n",
        "      print(\"(\", end='')\n",
        "      self.simetric_traversal(node.left)\n",
        "    print(node, end='')\n",
        "    if node.right:\n",
        "      self.simetric_traversal(node.right)\n",
        "      print(\")\", end='')\n",
        "\n",
        "  def postorder_traversal(self, node=None):\n",
        "    if node is None:\n",
        "      node = self.root\n",
        "    if node.left:\n",
        "      self.postorder_traversal(node.left)\n",
        "    if node.right:\n",
        "      self.postorder_traversal(node.right)\n",
        "    print(node)\n",
        "\n",
        "  def height(self, node=None):\n",
        "    if node is None:\n",
        "      node = self.root\n",
        "    hleft = 0\n",
        "    hright = 0\n",
        "    if node.left:\n",
        "      hleft = self.height(node.left)\n",
        "    if node.right:\n",
        "      hright = self.height(node.right)\n",
        "    if hright > hleft:\n",
        "      return hright + 1\n",
        "    return hleft + 1"
      ],
      "metadata": {
        "id": "5F0aJxdOiNYS"
      },
      "execution_count": null,
      "outputs": []
    },
    {
      "cell_type": "code",
      "source": [
        "tree = Tree()\n",
        "n1 = Node('H')\n",
        "n2 = Node('E')\n",
        "n3 = Node('L')\n",
        "n4 = Node('L')\n",
        "n5 = Node('O')\n",
        "n6 = Node(' ')\n",
        "n7 = Node('=')\n",
        "n8 = Node(')')\n",
        "\n",
        "n8.left = n3\n",
        "n8.right = n7\n",
        "n3.left = n2 \n",
        "n2.left = n1\n",
        "n7.left = n6\n",
        "n6.right = n5\n",
        "n5.left = n4\n",
        "\n",
        "tree.root = n8\n"
      ],
      "metadata": {
        "id": "0R99J9R9iPQi"
      },
      "execution_count": null,
      "outputs": []
    },
    {
      "cell_type": "code",
      "source": [
        "tree.postorder_traversal()"
      ],
      "metadata": {
        "colab": {
          "base_uri": "https://localhost:8080/"
        },
        "id": "StcYj3BvkYtp",
        "outputId": "692c4492-ee58-4484-b0d7-f6756b555fd4"
      },
      "execution_count": null,
      "outputs": [
        {
          "output_type": "stream",
          "name": "stdout",
          "text": [
            "H\n",
            "E\n",
            "L\n",
            "L\n",
            "O\n",
            " \n",
            "=\n",
            ")\n"
          ]
        }
      ]
    },
    {
      "cell_type": "code",
      "source": [
        "print(tree.height())"
      ],
      "metadata": {
        "colab": {
          "base_uri": "https://localhost:8080/"
        },
        "id": "PpJLis5zmkXm",
        "outputId": "6e21326d-d6c0-4bc1-c5dc-49579188a120"
      },
      "execution_count": null,
      "outputs": [
        {
          "output_type": "stream",
          "name": "stdout",
          "text": [
            "5\n"
          ]
        }
      ]
    }
  ]
}