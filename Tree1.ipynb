{
  "nbformat": 4,
  "nbformat_minor": 0,
  "metadata": {
    "colab": {
      "provenance": [],
      "collapsed_sections": []
    },
    "kernelspec": {
      "name": "python3",
      "display_name": "Python 3"
    },
    "language_info": {
      "name": "python"
    }
  },
  "cells": [
    {
      "cell_type": "markdown",
      "source": [
        "Armazenando uma expressão matemática numa árvore binária\n"
      ],
      "metadata": {
        "id": "Jjp2Htc2b8MV"
      }
    },
    {
      "cell_type": "code",
      "execution_count": 19,
      "metadata": {
        "id": "0vuSXub4XY9D"
      },
      "outputs": [],
      "source": [
        "class Node:\n",
        "  def __init__(self, data):\n",
        "    self.data = data\n",
        "    self.left = None\n",
        "    self.right = None\n",
        "\n",
        "  def __str__(self):\n",
        "    return str(self.data)"
      ]
    },
    {
      "cell_type": "code",
      "source": [
        "class Tree:\n",
        "  def __init__(self, data=None):\n",
        "    if data:\n",
        "      node = Node(data)\n",
        "      self.root = node\n",
        "    else:\n",
        "      self.root = None\n",
        "\n",
        "  def simetric_traversal(self, node=None):\n",
        "    if node is None:\n",
        "      node = self.root\n",
        "    if node.left:\n",
        "      print(\"(\", end='')\n",
        "      self.simetric_traversal(node.left)\n",
        "    print(node, end='')\n",
        "    if node.right:\n",
        "      self.simetric_traversal(node.right)\n",
        "      print(\")\", end='')"
      ],
      "metadata": {
        "id": "wqiZ3VwcXngy"
      },
      "execution_count": 20,
      "outputs": []
    },
    {
      "cell_type": "code",
      "source": [
        "tree = Tree()\n",
        "n1 = Node('a')\n",
        "n2 = Node('+')\n",
        "n3 = Node('*')\n",
        "n4 = Node('b')\n",
        "n5 = Node('-')\n",
        "n6 = Node('/')\n",
        "n7 = Node('c')\n",
        "n8 = Node('d')\n",
        "n9 = Node('e')\n",
        "\n",
        "n6.left = n7 \n",
        "n6.right = n8 \n",
        "n5.left = n6\n",
        "n5.right = n9 \n",
        "n3.left = n4 \n",
        "n3.right = n5 \n",
        "n2.left = n1 \n",
        "n2.right = n3 \n",
        "tree.root = n2"
      ],
      "metadata": {
        "id": "YK8IDM4lYLC2"
      },
      "execution_count": 21,
      "outputs": []
    },
    {
      "cell_type": "code",
      "source": [
        "tree.simetric_traversal()\n"
      ],
      "metadata": {
        "colab": {
          "base_uri": "https://localhost:8080/"
        },
        "id": "Q0XV1XWEYVNs",
        "outputId": "6e696717-604f-4070-a16f-a6b441743303"
      },
      "execution_count": 22,
      "outputs": [
        {
          "output_type": "stream",
          "name": "stdout",
          "text": [
            "(a+(b*((c/d)-e)))"
          ]
        }
      ]
    }
  ]
}